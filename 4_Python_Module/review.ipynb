{
 "cells": [
  {
   "cell_type": "code",
   "execution_count": 22,
   "metadata": {},
   "outputs": [],
   "source": [
    "import lineAndPoint as lp"
   ]
  },
  {
   "cell_type": "code",
   "execution_count": 23,
   "metadata": {},
   "outputs": [
    {
     "output_type": "stream",
     "name": "stdout",
     "text": "Возращает растояние от начала координат до точки :  6.4031242374328485\n"
    }
   ],
   "source": [
    "print(lp.distanceTo.__doc__,': ', lp.distanceTo(5,4))"
   ]
  },
  {
   "cell_type": "code",
   "execution_count": 24,
   "metadata": {},
   "outputs": [
    {
     "output_type": "stream",
     "name": "stdout",
     "text": "Возвращает растояние от начала координат до прямой :  0.7071067811865475\n"
    }
   ],
   "source": [
    "print(lp.distanceToZero.__doc__,': ', lp.distanceToZero(5,5,5))"
   ]
  },
  {
   "cell_type": "code",
   "execution_count": 25,
   "metadata": {},
   "outputs": [
    {
     "output_type": "stream",
     "name": "stdout",
     "text": "Возвращает растояние от прямой до точки :  0.7071067811865475\n"
    }
   ],
   "source": [
    "print(lp.distanceToPoint.__doc__,': ', lp.distanceToPoint(0,0,5,5,5))"
   ]
  },
  {
   "cell_type": "code",
   "execution_count": 26,
   "metadata": {},
   "outputs": [
    {
     "output_type": "stream",
     "name": "stdout",
     "text": "Проверяет параллельны ли линии :  Да\n"
    }
   ],
   "source": [
    "print(lp.isParallel.__doc__,': ', \"Да\" if lp.isParallel(5,4,4,1,2,4) else \"Нет\")"
   ]
  }
 ],
 "metadata": {
  "language_info": {
   "codemirror_mode": {
    "name": "ipython",
    "version": 3
   },
   "file_extension": ".py",
   "mimetype": "text/x-python",
   "name": "python",
   "nbconvert_exporter": "python",
   "pygments_lexer": "ipython3",
   "version": "3.6.9-final"
  },
  "orig_nbformat": 2,
  "kernelspec": {
   "name": "python36964bitvenvvenvcf3edac75eb84a179ac6a393ca6ccc1a",
   "display_name": "Python 3.6.9 64-bit ('venv': venv)"
  }
 },
 "nbformat": 4,
 "nbformat_minor": 2
}